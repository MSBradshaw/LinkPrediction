{
 "cells": [
  {
   "cell_type": "code",
   "execution_count": 1,
   "metadata": {},
   "outputs": [],
   "source": [
    "import networkx as nx\n"
   ]
  },
  {
   "cell_type": "code",
   "execution_count": 6,
   "metadata": {},
   "outputs": [],
   "source": [
    "H = nx.read_edgelist('../Data/HuRI.tsv',delimiter='\\t')\n",
    "S = nx.read_edgelist('../Data/String.txt',delimiter=' ')"
   ]
  },
  {
   "cell_type": "code",
   "execution_count": null,
   "metadata": {},
   "outputs": [],
   "source": [
    "# Get the degree of each node in the graph\n",
    "H_degree = H.degree()\n",
    "S_degree = S.degree()"
   ]
  },
  {
   "cell_type": "code",
   "execution_count": null,
   "metadata": {},
   "outputs": [],
   "source": [
    "# what the 10 highest degree nodes in each graph?\n",
    "H_degree_sorted = sorted(H_degree,key=lambda x: x[1],reverse=True)\n",
    "S_degree_sorted = sorted(S_degree,key=lambda x: x[1],reverse=True)\n",
    "\n",
    "print('HuRI')\n",
    "for i in range(10):\n",
    "    print(H_degree_sorted[i])\n",
    "\n",
    "print('\\nString')\n",
    "for i in range(10):\n",
    "    print(S_degree_sorted[i])\n",
    "    "
   ]
  }
 ],
 "metadata": {
  "kernelspec": {
   "display_name": "link",
   "language": "python",
   "name": "python3"
  },
  "language_info": {
   "codemirror_mode": {
    "name": "ipython",
    "version": 3
   },
   "file_extension": ".py",
   "mimetype": "text/x-python",
   "name": "python",
   "nbconvert_exporter": "python",
   "pygments_lexer": "ipython3",
   "version": "3.11.3"
  },
  "orig_nbformat": 4
 },
 "nbformat": 4,
 "nbformat_minor": 2
}
