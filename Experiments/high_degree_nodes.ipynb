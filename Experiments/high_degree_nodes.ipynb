{
 "cells": [
  {
   "cell_type": "code",
   "execution_count": 5,
   "metadata": {},
   "outputs": [],
   "source": [
    "import networkx as nx\n"
   ]
  },
  {
   "cell_type": "code",
   "execution_count": 6,
   "metadata": {},
   "outputs": [],
   "source": [
    "H = nx.read_edgelist('../Resources/HuRI.tsv',delimiter='\\t')\n",
    "S = nx.read_edgelist('../Resources/String.txt',delimiter=' ')"
   ]
  },
  {
   "cell_type": "code",
   "execution_count": 7,
   "metadata": {},
   "outputs": [],
   "source": [
    "# Get the degree of each node in the graph\n",
    "H_degree = H.degree()\n",
    "S_degree = S.degree()"
   ]
  },
  {
   "cell_type": "code",
   "execution_count": 8,
   "metadata": {},
   "outputs": [
    {
     "name": "stdout",
     "output_type": "stream",
     "text": [
      "HuRI\n",
      "('ENSG00000197191', 500)\n",
      "('ENSG00000106511', 498)\n",
      "('ENSG00000100151', 321)\n",
      "('ENSG00000187766', 320)\n",
      "('ENSG00000156795', 313)\n",
      "('ENSG00000086159', 304)\n",
      "('ENSG00000072201', 296)\n",
      "('ENSG00000160207', 292)\n",
      "('ENSG00000104964', 269)\n",
      "('ENSG00000094796', 264)\n",
      "\n",
      "String\n",
      "('9606.ENSP00000229239', 7507)\n",
      "('9606.ENSP00000349960', 6940)\n",
      "('9606.ENSP00000451828', 5918)\n",
      "('9606.ENSP00000298910', 5804)\n",
      "('9606.ENSP00000269305', 5652)\n",
      "('9606.ENSP00000479618', 5613)\n",
      "('9606.ENSP00000344456', 5071)\n",
      "('9606.ENSP00000295897', 4995)\n",
      "('9606.ENSP00000275493', 4512)\n",
      "('9606.ENSP00000335153', 4436)\n"
     ]
    }
   ],
   "source": [
    "# what the 10 highest degree nodes in each graph?\n",
    "H_degree_sorted = sorted(H_degree,key=lambda x: x[1],reverse=True)\n",
    "S_degree_sorted = sorted(S_degree,key=lambda x: x[1],reverse=True)\n",
    "\n",
    "print('HuRI')\n",
    "for i in range(10):\n",
    "    print(H_degree_sorted[i]])\n",
    "\n",
    "print('\\nString')\n",
    "for i in range(10):\n",
    "    print(S_degree_sorted[i])\n",
    "    "
   ]
  },
  {
   "attachments": {},
   "cell_type": "markdown",
   "metadata": {},
   "source": [
    "# GO Enrichment\n",
    "I copy and pasted those gene lists in to the GO enrichement analsis tool (powered by panther) on the gene ontology website https://geneontology.org/\n",
    "## Results\n",
    "### HuRI\n",
    "Only 1 ID did not map, 0 multiple mappings\n",
    "\n",
    "ENSG00000197191 - CYSRT1\n",
    "\n",
    "ENSG00000106511 - MEOX2\n",
    "\n",
    "ENSG00000100151 - PICK1\n",
    "\n",
    "ENSG00000187766 - KRTAP10-8\n",
    "\n",
    "ENSG00000156795 - WDYHV1\n",
    "\n",
    "ENSG00000086159 - AQP6\n",
    " \n",
    "ENSG00000072201 - LNX1\n",
    " \n",
    "ENSG00000160207 - HSF2BP\n",
    "\n",
    "ENSG00000104964 - TLE5\n",
    "\n",
    "ENSG00000094796 - KRT31\n",
    "\n",
    "\n",
    "No statistically significant results\n",
    "\n",
    "\n",
    "### STRING\n",
    "ENSP00000229239 - GAPDH\n",
    " \n",
    "ENSP00000349960 - ACTB\n",
    " \n",
    "ENSP00000451828 - AKT1\n",
    " \n",
    "ENSP00000298910 - LRRK2\n",
    "\n",
    "ENSP00000269305 - TP53\n",
    "\n",
    "ENSP00000479618 - MYC\n",
    "\n",
    "ENSP00000344456 - CTNNB1\n",
    "\n",
    "ENSP00000295897 - ALB\n",
    "\n",
    "ENSP00000275493 - EGFR\n",
    "\n",
    "ENSP00000335153 - HSP90AA1\n",
    "\n",
    "468 significant GO terms, see Supplement/GO_STRING_top10_analysis.txt for full details"
   ]
  }
 ],
 "metadata": {
  "kernelspec": {
   "display_name": "link",
   "language": "python",
   "name": "python3"
  },
  "language_info": {
   "codemirror_mode": {
    "name": "ipython",
    "version": 3
   },
   "file_extension": ".py",
   "mimetype": "text/x-python",
   "name": "python",
   "nbconvert_exporter": "python",
   "pygments_lexer": "ipython3",
   "version": "3.9.16"
  },
  "orig_nbformat": 4
 },
 "nbformat": 4,
 "nbformat_minor": 2
}
