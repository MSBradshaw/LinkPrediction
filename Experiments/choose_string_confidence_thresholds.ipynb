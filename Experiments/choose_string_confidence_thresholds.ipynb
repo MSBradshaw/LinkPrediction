{
 "cells": [
  {
   "cell_type": "code",
   "execution_count": 24,
   "metadata": {},
   "outputs": [],
   "source": [
    "import pandas as pd\n",
    "import matplotlib.pyplot as plt\n",
    "import networkx as nx\n",
    "import random\n",
    "import numpy as np\n",
    "import os"
   ]
  },
  {
   "attachments": {},
   "cell_type": "markdown",
   "metadata": {},
   "source": [
    "# Choosing STRING edge confidence thresholds\n",
    "The purpose of this notebook is to choose three cut-offs for including edges from STRING in an updated version of Monarch KG."
   ]
  },
  {
   "attachments": {},
   "cell_type": "markdown",
   "metadata": {},
   "source": [
    "download STRING v12 pysical links detailed\n",
    "https://stringdb-downloads.org/download/protein.links.full.v12.0/9606.protein.links.full.v12.0.txt.gz\n",
    "\n",
    "I want only experimental data and not transfered experimental data. The scores reported in that file are originall floating point numbers 0.000-1.000 that have been multiplied by 1000 (presumably for storage purposes). I should threshold based on that experimental score.\n"
   ]
  },
  {
   "cell_type": "code",
   "execution_count": 5,
   "metadata": {},
   "outputs": [
    {
     "name": "stdout",
     "output_type": "stream",
     "text": [
      "               protein1              protein2  neighborhood  \\\n",
      "0  9606.ENSP00000000233  9606.ENSP00000356607             0   \n",
      "1  9606.ENSP00000000233  9606.ENSP00000427567             0   \n",
      "2  9606.ENSP00000000233  9606.ENSP00000253413             0   \n",
      "3  9606.ENSP00000000233  9606.ENSP00000493357             0   \n",
      "4  9606.ENSP00000000233  9606.ENSP00000324127             0   \n",
      "\n",
      "   neighborhood_transferred  fusion  cooccurence  homology  coexpression  \\\n",
      "0                         0       0            0         0             0   \n",
      "1                         0       0            0         0             0   \n",
      "2                         0       0            0         0            49   \n",
      "3                         0       0            0         0            56   \n",
      "4                         0       0            0         0             0   \n",
      "\n",
      "   coexpression_transferred  experiments  experiments_transferred  database  \\\n",
      "0                        45            0                      134         0   \n",
      "1                         0            0                      128         0   \n",
      "2                       111            0                       49         0   \n",
      "3                         0            0                       53         0   \n",
      "4                         0            0                       46         0   \n",
      "\n",
      "   database_transferred  textmining  textmining_transferred  combined_score  \n",
      "0                     0           0                      81             173  \n",
      "1                     0           0                      70             154  \n",
      "2                     0           0                      69             151  \n",
      "3                     0         433                      81             471  \n",
      "4                     0         153                      91             201  \n",
      "OG human STRING size (13715404, 16)\n"
     ]
    }
   ],
   "source": [
    "string_file = '../Resources/9606.protein.links.full.v12.0.txt'\n",
    "string_df = pd.read_csv(string_file, sep=' ')\n",
    "print(string_df.head())\n",
    "print('OG human STRING size',string_df.shape)\n",
    "    "
   ]
  },
  {
   "cell_type": "code",
   "execution_count": 6,
   "metadata": {},
   "outputs": [
    {
     "name": "stdout",
     "output_type": "stream",
     "text": [
      "Human string experimental only (1136680, 16)\n"
     ]
    }
   ],
   "source": [
    "# keep only rows with experimental != 0\n",
    "string_df = string_df[string_df['experiments'] != 0]\n",
    "print('Human string experimental only',string_df.shape)"
   ]
  },
  {
   "cell_type": "code",
   "execution_count": 7,
   "metadata": {},
   "outputs": [
    {
     "data": {
      "image/png": "[encoded data removed]",
      "text/plain": [
       "<Figure size 640x480 with 1 Axes>"
      ]
     },
     "metadata": {},
     "output_type": "display_data"
    }
   ],
   "source": [
    "# plot the distribution of the experiments scores\n",
    "fig, ax = plt.subplots()\n",
    "\n",
    "ax.hist(string_df['experiments'], bins=100)\n",
    "# label the axes\n",
    "ax.set_xlabel('Experiments evidence score')\n",
    "ax.set_ylabel('Number of edges')\n",
    "# remove the top and right spines from plot\n",
    "ax.spines['top'].set_visible(False)\n",
    "ax.spines['right'].set_visible(False)\n",
    "plt.show()"
   ]
  },
  {
   "cell_type": "code",
   "execution_count": 8,
   "metadata": {},
   "outputs": [
    {
     "name": "stdout",
     "output_type": "stream",
     "text": [
      "Percentage of edges with > 0.85 confidence: 0.036173769222648415\n",
      "Percentage of edges with > 0.30 confidence: 0.21128373860717176\n",
      "Percentage of edges with > 0.15 confidence: 0.8282718091283386\n",
      "Threshold for top 20% of edges: 314.0\n",
      "Threshold for top 40% of edges: 292.0\n",
      "Threshold for top 60% of edges: 190.0\n",
      "Number of edges with > 314.0 confidence: 228956 0.2014252032234226\n",
      "Number of edges with > 292.0 confidence: 501084 0.4408311925959813\n",
      "Number of edges with > 190.0 confidence: 682640 0.60055600520815\n"
     ]
    },
    {
     "data": {
      "image/png": "[encoded data removed]",
      "text/plain": [
       "<Figure size 640x480 with 1 Axes>"
      ]
     },
     "metadata": {},
     "output_type": "display_data"
    }
   ],
   "source": [
    "# make an arc like curce of threshold vs total edges included\n",
    "# thresholds every 0.05 to 1.00\n",
    "thresholds = [i/100 for i in range(0,101,5)]\n",
    "xs = []\n",
    "ys = []\n",
    "for thresh in thresholds:\n",
    "    string_df_thresh = string_df[string_df['experiments'] >= (thresh * 1000)]\n",
    "    xs.append(thresh)\n",
    "    ys.append(string_df_thresh.shape[0] / string_df.shape[0])\n",
    "\n",
    "fig, ax = plt.subplots()\n",
    "ax.plot(xs, ys)\n",
    "ax.set_xlabel('Threshold')\n",
    "ax.set_ylabel('Portion of total edges')\n",
    "ax.spines['top'].set_visible(False)\n",
    "ax.spines['right'].set_visible(False)\n",
    "# label x ticks using 0.1 increments\n",
    "ax.set_xticks([i/10 for i in range(0,11)])\n",
    "# add h lines at .75, .5 and .25\n",
    "ax.axhline(y=0.75, color='r', linestyle='--')\n",
    "ax.axhline(y=0.5, color='r', linestyle='--')\n",
    "ax.axhline(y=0.25, color='r', linestyle='--')\n",
    "\n",
    "# what % of edges have > 0.85, 0.30, and 0.15 respectively\n",
    "print('Percentage of edges with > 0.85 confidence:', string_df[string_df['experiments'] >= 850].shape[0] / string_df.shape[0])\n",
    "print('Percentage of edges with > 0.30 confidence:', string_df[string_df['experiments'] >= 300].shape[0] / string_df.shape[0])\n",
    "print('Percentage of edges with > 0.15 confidence:', string_df[string_df['experiments'] >= 150].shape[0] / string_df.shape[0])\n",
    "\n",
    "# what is the thresholf for the top 20, 40 and 60 % of edges?\n",
    "print('Threshold for top 20% of edges:', string_df['experiments'].quantile(0.8))\n",
    "print('Threshold for top 40% of edges:', string_df['experiments'].quantile(0.6))\n",
    "print('Threshold for top 60% of edges:', string_df['experiments'].quantile(0.4))\n",
    "\n",
    "# plot v lines on the graph for the thresholds string_df['experiments'].quantile(0.8), string_df['experiments'].quantile(0.6), string_df['experiments'].quantile(0.4)\n",
    "ax.axvline(x=string_df['experiments'].quantile(0.8)/1000, color='g', linestyle='--')\n",
    "ax.axvline(x=string_df['experiments'].quantile(0.6)/1000, color='g', linestyle='--')\n",
    "ax.axvline(x=string_df['experiments'].quantile(0.4)/1000, color='g', linestyle='--')\n",
    "\n",
    "# how many edges are there for each of these thresholds? 314.0 292.0 190.0, also print the % of total edges\n",
    "print('Number of edges with > 314.0 confidence:', string_df[string_df['experiments'] >= 314].shape[0], string_df[string_df['experiments'] >= 314].shape[0] / string_df.shape[0])\n",
    "print('Number of edges with > 292.0 confidence:', string_df[string_df['experiments'] >= 292].shape[0], string_df[string_df['experiments'] >= 292].shape[0] / string_df.shape[0])\n",
    "print('Number of edges with > 190.0 confidence:', string_df[string_df['experiments'] >= 190].shape[0], string_df[string_df['experiments'] >= 190].shape[0] / string_df.shape[0])\n",
    "\n",
    "\n",
    "\n",
    "plt.show()"
   ]
  },
  {
   "attachments": {},
   "cell_type": "markdown",
   "metadata": {},
   "source": [
    "Based on the threshold vs portion of total edges plot I am going to choose the thresholds of 0.85, 0.30, and 0.15. These values correspond with inflection points in the graph and include the top 0.04, 0.21 and 0.83 portion of edges. My understanding of under this scoring metric, .3 does not necessarily mean bad, just that there is drastically more potential for confidence too."
   ]
  },
  {
   "attachments": {},
   "cell_type": "markdown",
   "metadata": {},
   "source": [
    "# portion vs inflection based\n",
    "Instead what if I choose thresholds based on the % of calls, what is the threshold for the top 20,40 and 60%"
   ]
  },
  {
   "cell_type": "code",
   "execution_count": 9,
   "metadata": {},
   "outputs": [
    {
     "name": "stdout",
     "output_type": "stream",
     "text": [
      "Threshold for top 20% of edges: 314.0\n",
      "Threshold for top 40% of edges: 292.0\n",
      "Threshold for top 60% of edges: 190.0\n"
     ]
    }
   ],
   "source": [
    "# what is the thresholf for the top 20, 40 and 60 % of edges?\n",
    "print('Threshold for top 20% of edges:', string_df['experiments'].quantile(0.8))\n",
    "print('Threshold for top 40% of edges:', string_df['experiments'].quantile(0.6))\n",
    "print('Threshold for top 60% of edges:', string_df['experiments'].quantile(0.4))"
   ]
  },
  {
   "attachments": {},
   "cell_type": "markdown",
   "metadata": {},
   "source": [
    "# Create thresholded edge lists\n",
    "These convertions were made using SynGO https://www.syngoportal.org/convert, remember to cite this paper: https://www.sciencedirect.com/science/article/pii/S0896627319304271?via%3Dihub\n"
   ]
  },
  {
   "cell_type": "code",
   "execution_count": 10,
   "metadata": {},
   "outputs": [
    {
     "name": "stdout",
     "output_type": "stream",
     "text": [
      "             query  entrezgene                               name   symbol  \\\n",
      "0  ENSP00000263100         1.0             alpha-1-B glycoprotein     A1BG   \n",
      "1  ENSP00000378868     29974.0     APOBEC1 complementation factor     A1CF   \n",
      "2  ENSP00000323929         2.0              alpha-2-macroglobulin      A2M   \n",
      "3  ENSP00000299698    144568.0       alpha-2-macroglobulin like 1    A2ML1   \n",
      "4  ENSP00000475261    127550.0  alpha 1,3-galactosyltransferase 2  A3GALT2   \n",
      "\n",
      "                               alias   taxid        HGNC  \n",
      "0            A1B, ABG, GAB, HYST2477  9606.0      HGNC:5  \n",
      "1  ACF, ACF64, ACF65, APOBEC1CF, ASP  9606.0  HGNC:24086  \n",
      "2       A2MD, CPAMD5, FWP007, S863-7  9606.0      HGNC:7  \n",
      "3                  CPAMD9, OMS, p170  9606.0  HGNC:23336  \n",
      "4            A3GALT2P, IGB3S, IGBS3S  9606.0  HGNC:30005  \n"
     ]
    }
   ],
   "source": [
    "# read in Resources/idmap.xlsx\n",
    "idmap_file = '../Resources/idmap.xlsx'\n",
    "idmap_df = pd.read_excel(idmap_file)\n",
    "print(idmap_df.head())\n",
    "# create a query to HGNC symbol dictionary\n",
    "query_to_symbol = dict(zip(idmap_df['query'], idmap_df['symbol']))"
   ]
  },
  {
   "cell_type": "code",
   "execution_count": 11,
   "metadata": {},
   "outputs": [],
   "source": [
    "# remove 9606. prefix from protein1 and protein2 columns\n",
    "string_df['protein1'] = string_df['protein1'].apply(lambda x: x.split('.')[1])\n",
    "string_df['protein2'] = string_df['protein2'].apply(lambda x: x.split('.')[1])\n",
    "\n",
    "# map protein1 and protein2 to HGNC symbols\n",
    "string_df['protein1'] = string_df['protein1'].map(query_to_symbol)\n",
    "string_df['protein2'] = string_df['protein2'].map(query_to_symbol)\n"
   ]
  },
  {
   "attachments": {},
   "cell_type": "markdown",
   "metadata": {},
   "source": [
    "# Create new Monarch versions"
   ]
  },
  {
   "cell_type": "code",
   "execution_count": 40,
   "metadata": {},
   "outputs": [
    {
     "name": "stdout",
     "output_type": "stream",
     "text": [
      "Top 25%: 239080 0.21033184361473767\n",
      "Top 50%: 574546 0.5054597600028152\n",
      "Top 100%: 1136680 1.0\n",
      "(11412471, 3)\n"
     ]
    },
    {
     "name": "stderr",
     "output_type": "stream",
     "text": [
      "/tmp/ipykernel_5996/2110929112.py:18: SettingWithCopyWarning: \n",
      "A value is trying to be set on a copy of a slice from a DataFrame.\n",
      "Try using .loc[row_indexer,col_indexer] = value instead\n",
      "\n",
      "See the caveats in the documentation: https://pandas.pydata.org/pandas-docs/stable/user_guide/indexing.html#returning-a-view-versus-a-copy\n",
      "  string_df['predicate'] = 'biolink:interacts_with'\n"
     ]
    },
    {
     "name": "stdout",
     "output_type": "stream",
     "text": [
      "(8937433, 3)\n",
      "Dropping duplicates\n",
      "(7126686, 3)\n",
      "Pre: Number of duplicate rows: 0\n",
      "Number of duplicate rows: 0\n",
      "(5701349, 3) (691363, 3) (693742, 3)\n",
      "(11412471, 3)\n"
     ]
    },
    {
     "name": "stderr",
     "output_type": "stream",
     "text": [
      "/tmp/ipykernel_5996/2110929112.py:18: SettingWithCopyWarning: \n",
      "A value is trying to be set on a copy of a slice from a DataFrame.\n",
      "Try using .loc[row_indexer,col_indexer] = value instead\n",
      "\n",
      "See the caveats in the documentation: https://pandas.pydata.org/pandas-docs/stable/user_guide/indexing.html#returning-a-view-versus-a-copy\n",
      "  string_df['predicate'] = 'biolink:interacts_with'\n"
     ]
    },
    {
     "name": "stdout",
     "output_type": "stream",
     "text": [
      "(9272899, 3)\n",
      "Dropping duplicates\n",
      "(7456244, 3)\n",
      "Pre: Number of duplicate rows: 0\n",
      "Number of duplicate rows: 0\n",
      "(5964995, 3) (694216, 3) (699730, 3)\n",
      "(11412471, 3)\n",
      "(9835033, 3)\n",
      "Dropping duplicates\n",
      "(8006448, 3)\n",
      "Pre: Number of duplicate rows: 0\n",
      "Number of duplicate rows: 0\n",
      "(6405158, 3) (698459, 3) (709724, 3)\n"
     ]
    }
   ],
   "source": [
    "def replace_monarchs_hgnc(m_path,string_df):\n",
    "    monarch_df = pd.read_csv(m_path, sep='\\t',header=None)\n",
    "    monarch_df.columns = ['subject','predicate','object']\n",
    "    print(monarch_df.shape)\n",
    "    # get the HGNC nodes in monarch\n",
    "    monarch_nodes = set([x for x in list(monarch_df['subject'].unique()) + list(monarch_df['object'].unique()) if 'HGNC:' in x])    \n",
    "    # get the string nodes\n",
    "    string_nodes = set(list(string_df['protein1'].unique()) + list(string_df['protein2'].unique()))\n",
    "    # get the nodes in monarch but not in string\n",
    "    monarch_not_in_string = monarch_nodes - string_nodes\n",
    "    # remove rows from monarch_df where subject or object is in monarch_not_in_string\n",
    "    monarch_df = monarch_df[~monarch_df['subject'].isin(monarch_not_in_string)]\n",
    "    monarch_df = monarch_df[~monarch_df['object'].isin(monarch_not_in_string)]\n",
    "    # remove rows from monarch where subject and object are HGNC: nodes\n",
    "    monarch_df['is_g2g'] = ['HGNC:' in row['subject'] and 'HGNC:' in row['object'] for i,row in monarch_df.iterrows()]\n",
    "    monarch_df = monarch_df[~monarch_df['is_g2g']]\n",
    "    # add all string edges to monarch_df, with a predicate of 'biolink:interacts_with'\n",
    "    string_df['predicate'] = 'biolink:interacts_with'\n",
    "    string_df = string_df[['protein1','predicate','protein2']]\n",
    "    string_df.columns = ['subject','predicate','object']\n",
    "    # drop the is_g2g column in monarch\n",
    "    monarch_df = monarch_df.drop(columns=['is_g2g'])\n",
    "    monarch_df = pd.concat([monarch_df, string_df])\n",
    "    print(monarch_df.shape)\n",
    "\n",
    "    # double check work\n",
    "    # get all HGNC nodes in monarch\n",
    "    monarch_nodes = set([x for x in list(monarch_df['subject'].unique()) + list(monarch_df['object'].unique()) if 'HGNC:' in str(x)])\n",
    "    # assert they are all in string\n",
    "    assert monarch_nodes.issubset(string_nodes)\n",
    "\n",
    "    print('Dropping duplicates')\n",
    "    monarch_df = monarch_df.drop_duplicates()\n",
    "    print(monarch_df.shape)\n",
    "\n",
    "    return monarch_df\n",
    "\n",
    "\n",
    "\n",
    "def make_random_split_of_edges(monarch_df,output_dir,seed=42):\n",
    "    duplicate_rows = monarch_df.duplicated()\n",
    "    print('Pre: Number of duplicate rows:', duplicate_rows.sum())\n",
    "    # if output_dir does not exist, create it\n",
    "    if not os.path.exists(output_dir):\n",
    "        os.makedirs(output_dir)\n",
    "    # if out dir does not end with a /, add one\n",
    "    if not output_dir.endswith('/'):\n",
    "        output_dir += '/'\n",
    "    # split the df edges randomly\n",
    "    np.random.seed(seed)\n",
    "    # create a random 80/10/10 split of the edges\n",
    "    train = monarch_df.sample(frac=0.8, random_state=seed)\n",
    "    test = monarch_df.drop(train.index).sample(frac=0.5, random_state=seed)\n",
    "    val = monarch_df.drop(train.index).drop(test.index)\n",
    "    # save the train, test, and val sets to the output_dir\n",
    "    train.to_csv(output_dir + 'train.txt', sep='\\t', index=False, header=False)\n",
    "    test.to_csv(output_dir + 'test.txt', sep='\\t', index=False, header=False)\n",
    "    val.to_csv(output_dir + 'valid.txt', sep='\\t', index=False, header=False)\n",
    "\n",
    "    # assert there is no overlap between the sets\n",
    "    all_df = pd.concat([train, test, val])\n",
    "    duplicate_rows = all_df.duplicated()\n",
    "    print('Number of duplicate rows:', duplicate_rows.sum())\n",
    "    # assert duplicate_rows.shape == (0,)\n",
    "    print(train.shape, val.shape, test.shape)\n",
    "\n",
    "# establish the percentile thresholds\n",
    "top_25 = string_df['experiments'].quantile(0.79) # note that if you use < 78 there are a bunch of ties and the number of edges is not 25%, more like 49% of the edges. This really results in the top 21%\n",
    "top_50 = string_df['experiments'].quantile(0.5)\n",
    "\n",
    "\n",
    "# subset the string_df to only include edges with confidence above the thresholds\n",
    "top_25_df = string_df[string_df['experiments'] >= top_25]\n",
    "top_50_df = string_df[string_df['experiments'] >= top_50]\n",
    "top_100_df = string_df\n",
    "\n",
    "print('Top 25%:', top_25_df.shape[0], top_25_df.shape[0] / string_df.shape[0])\n",
    "print('Top 50%:', top_50_df.shape[0], top_50_df.shape[0] / string_df.shape[0])\n",
    "print('Top 100%:', top_100_df.shape[0], top_100_df.shape[0] / top_100_df.shape[0])\n",
    "\n",
    "# replace the HGNC: nodes in monarch with the HGNC: nodes in string\n",
    "top_25_mdf = replace_monarchs_hgnc('../Monarch_KG/monarch-kg_triples.2023-12-16.tsv',top_25_df)\n",
    "make_random_split_of_edges(top_25_mdf, '../ELs_for_Rotate/Monarch_STRING_t25/', 42)\n",
    "\n",
    "top_50_mdf = replace_monarchs_hgnc('../Monarch_KG/monarch-kg_triples.2023-12-16.tsv',top_50_df)\n",
    "make_random_split_of_edges(top_50_mdf, '../ELs_for_Rotate/Monarch_STRING_t50/', 42)\n",
    "\n",
    "top_100_mdf = replace_monarchs_hgnc('../Monarch_KG/monarch-kg_triples.2023-12-16.tsv',top_100_df)\n",
    "make_random_split_of_edges(top_100_mdf, '../ELs_for_Rotate/Monarch_STRING_t100/', 42)\n",
    "\n",
    "\n"
   ]
  }
 ],
 "metadata": {
  "kernelspec": {
   "display_name": "link",
   "language": "python",
   "name": "python3"
  },
  "language_info": {
   "codemirror_mode": {
    "name": "ipython",
    "version": 3
   },
   "file_extension": ".py",
   "mimetype": "text/x-python",
   "name": "python",
   "nbconvert_exporter": "python",
   "pygments_lexer": "ipython3",
   "version": "3.9.16"
  },
  "orig_nbformat": 4
 },
 "nbformat": 4,
 "nbformat_minor": 2
}
