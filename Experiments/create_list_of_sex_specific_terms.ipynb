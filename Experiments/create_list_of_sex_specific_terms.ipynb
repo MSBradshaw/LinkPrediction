{
 "cells": [
  {
   "cell_type": "code",
   "execution_count": 1,
   "metadata": {},
   "outputs": [],
   "source": [
    "import pandas as pd\n",
    "import matplotlib.pyplot as plt\n",
    "import obonet\n",
    "import networkx as nx"
   ]
  },
  {
   "cell_type": "code",
   "execution_count": 2,
   "metadata": {},
   "outputs": [
    {
     "ename": "FileNotFoundError",
     "evalue": "[Errno 2] No such file or directory: '../Resources/phenotype.hpoa'",
     "output_type": "error",
     "traceback": [
      "\u001b[0;31m---------------------------------------------------------------------------\u001b[0m",
      "\u001b[0;31mFileNotFoundError\u001b[0m                         Traceback (most recent call last)",
      "Cell \u001b[0;32mIn[2], line 2\u001b[0m\n\u001b[1;32m      1\u001b[0m \u001b[39m# load the annotation file as a df\u001b[39;00m\n\u001b[0;32m----> 2\u001b[0m df \u001b[39m=\u001b[39m pd\u001b[39m.\u001b[39;49mread_csv(\u001b[39m'\u001b[39;49m\u001b[39m../Resources/phenotype.hpoa\u001b[39;49m\u001b[39m'\u001b[39;49m, sep\u001b[39m=\u001b[39;49m\u001b[39m'\u001b[39;49m\u001b[39m\\t\u001b[39;49;00m\u001b[39m'\u001b[39;49m,comment\u001b[39m=\u001b[39;49m\u001b[39m'\u001b[39;49m\u001b[39m#\u001b[39;49m\u001b[39m'\u001b[39;49m)\n\u001b[1;32m      3\u001b[0m df\u001b[39m.\u001b[39mhead()\n",
      "File \u001b[0;32m~/anaconda3/envs/link/lib/python3.9/site-packages/pandas/io/parsers/readers.py:948\u001b[0m, in \u001b[0;36mread_csv\u001b[0;34m(filepath_or_buffer, sep, delimiter, header, names, index_col, usecols, dtype, engine, converters, true_values, false_values, skipinitialspace, skiprows, skipfooter, nrows, na_values, keep_default_na, na_filter, verbose, skip_blank_lines, parse_dates, infer_datetime_format, keep_date_col, date_parser, date_format, dayfirst, cache_dates, iterator, chunksize, compression, thousands, decimal, lineterminator, quotechar, quoting, doublequote, escapechar, comment, encoding, encoding_errors, dialect, on_bad_lines, delim_whitespace, low_memory, memory_map, float_precision, storage_options, dtype_backend)\u001b[0m\n\u001b[1;32m    935\u001b[0m kwds_defaults \u001b[39m=\u001b[39m _refine_defaults_read(\n\u001b[1;32m    936\u001b[0m     dialect,\n\u001b[1;32m    937\u001b[0m     delimiter,\n\u001b[0;32m   (...)\u001b[0m\n\u001b[1;32m    944\u001b[0m     dtype_backend\u001b[39m=\u001b[39mdtype_backend,\n\u001b[1;32m    945\u001b[0m )\n\u001b[1;32m    946\u001b[0m kwds\u001b[39m.\u001b[39mupdate(kwds_defaults)\n\u001b[0;32m--> 948\u001b[0m \u001b[39mreturn\u001b[39;00m _read(filepath_or_buffer, kwds)\n",
      "File \u001b[0;32m~/anaconda3/envs/link/lib/python3.9/site-packages/pandas/io/parsers/readers.py:611\u001b[0m, in \u001b[0;36m_read\u001b[0;34m(filepath_or_buffer, kwds)\u001b[0m\n\u001b[1;32m    608\u001b[0m _validate_names(kwds\u001b[39m.\u001b[39mget(\u001b[39m\"\u001b[39m\u001b[39mnames\u001b[39m\u001b[39m\"\u001b[39m, \u001b[39mNone\u001b[39;00m))\n\u001b[1;32m    610\u001b[0m \u001b[39m# Create the parser.\u001b[39;00m\n\u001b[0;32m--> 611\u001b[0m parser \u001b[39m=\u001b[39m TextFileReader(filepath_or_buffer, \u001b[39m*\u001b[39;49m\u001b[39m*\u001b[39;49mkwds)\n\u001b[1;32m    613\u001b[0m \u001b[39mif\u001b[39;00m chunksize \u001b[39mor\u001b[39;00m iterator:\n\u001b[1;32m    614\u001b[0m     \u001b[39mreturn\u001b[39;00m parser\n",
      "File \u001b[0;32m~/anaconda3/envs/link/lib/python3.9/site-packages/pandas/io/parsers/readers.py:1448\u001b[0m, in \u001b[0;36mTextFileReader.__init__\u001b[0;34m(self, f, engine, **kwds)\u001b[0m\n\u001b[1;32m   1445\u001b[0m     \u001b[39mself\u001b[39m\u001b[39m.\u001b[39moptions[\u001b[39m\"\u001b[39m\u001b[39mhas_index_names\u001b[39m\u001b[39m\"\u001b[39m] \u001b[39m=\u001b[39m kwds[\u001b[39m\"\u001b[39m\u001b[39mhas_index_names\u001b[39m\u001b[39m\"\u001b[39m]\n\u001b[1;32m   1447\u001b[0m \u001b[39mself\u001b[39m\u001b[39m.\u001b[39mhandles: IOHandles \u001b[39m|\u001b[39m \u001b[39mNone\u001b[39;00m \u001b[39m=\u001b[39m \u001b[39mNone\u001b[39;00m\n\u001b[0;32m-> 1448\u001b[0m \u001b[39mself\u001b[39m\u001b[39m.\u001b[39m_engine \u001b[39m=\u001b[39m \u001b[39mself\u001b[39;49m\u001b[39m.\u001b[39;49m_make_engine(f, \u001b[39mself\u001b[39;49m\u001b[39m.\u001b[39;49mengine)\n",
      "File \u001b[0;32m~/anaconda3/envs/link/lib/python3.9/site-packages/pandas/io/parsers/readers.py:1705\u001b[0m, in \u001b[0;36mTextFileReader._make_engine\u001b[0;34m(self, f, engine)\u001b[0m\n\u001b[1;32m   1703\u001b[0m     \u001b[39mif\u001b[39;00m \u001b[39m\"\u001b[39m\u001b[39mb\u001b[39m\u001b[39m\"\u001b[39m \u001b[39mnot\u001b[39;00m \u001b[39min\u001b[39;00m mode:\n\u001b[1;32m   1704\u001b[0m         mode \u001b[39m+\u001b[39m\u001b[39m=\u001b[39m \u001b[39m\"\u001b[39m\u001b[39mb\u001b[39m\u001b[39m\"\u001b[39m\n\u001b[0;32m-> 1705\u001b[0m \u001b[39mself\u001b[39m\u001b[39m.\u001b[39mhandles \u001b[39m=\u001b[39m get_handle(\n\u001b[1;32m   1706\u001b[0m     f,\n\u001b[1;32m   1707\u001b[0m     mode,\n\u001b[1;32m   1708\u001b[0m     encoding\u001b[39m=\u001b[39;49m\u001b[39mself\u001b[39;49m\u001b[39m.\u001b[39;49moptions\u001b[39m.\u001b[39;49mget(\u001b[39m\"\u001b[39;49m\u001b[39mencoding\u001b[39;49m\u001b[39m\"\u001b[39;49m, \u001b[39mNone\u001b[39;49;00m),\n\u001b[1;32m   1709\u001b[0m     compression\u001b[39m=\u001b[39;49m\u001b[39mself\u001b[39;49m\u001b[39m.\u001b[39;49moptions\u001b[39m.\u001b[39;49mget(\u001b[39m\"\u001b[39;49m\u001b[39mcompression\u001b[39;49m\u001b[39m\"\u001b[39;49m, \u001b[39mNone\u001b[39;49;00m),\n\u001b[1;32m   1710\u001b[0m     memory_map\u001b[39m=\u001b[39;49m\u001b[39mself\u001b[39;49m\u001b[39m.\u001b[39;49moptions\u001b[39m.\u001b[39;49mget(\u001b[39m\"\u001b[39;49m\u001b[39mmemory_map\u001b[39;49m\u001b[39m\"\u001b[39;49m, \u001b[39mFalse\u001b[39;49;00m),\n\u001b[1;32m   1711\u001b[0m     is_text\u001b[39m=\u001b[39;49mis_text,\n\u001b[1;32m   1712\u001b[0m     errors\u001b[39m=\u001b[39;49m\u001b[39mself\u001b[39;49m\u001b[39m.\u001b[39;49moptions\u001b[39m.\u001b[39;49mget(\u001b[39m\"\u001b[39;49m\u001b[39mencoding_errors\u001b[39;49m\u001b[39m\"\u001b[39;49m, \u001b[39m\"\u001b[39;49m\u001b[39mstrict\u001b[39;49m\u001b[39m\"\u001b[39;49m),\n\u001b[1;32m   1713\u001b[0m     storage_options\u001b[39m=\u001b[39;49m\u001b[39mself\u001b[39;49m\u001b[39m.\u001b[39;49moptions\u001b[39m.\u001b[39;49mget(\u001b[39m\"\u001b[39;49m\u001b[39mstorage_options\u001b[39;49m\u001b[39m\"\u001b[39;49m, \u001b[39mNone\u001b[39;49;00m),\n\u001b[1;32m   1714\u001b[0m )\n\u001b[1;32m   1715\u001b[0m \u001b[39massert\u001b[39;00m \u001b[39mself\u001b[39m\u001b[39m.\u001b[39mhandles \u001b[39mis\u001b[39;00m \u001b[39mnot\u001b[39;00m \u001b[39mNone\u001b[39;00m\n\u001b[1;32m   1716\u001b[0m f \u001b[39m=\u001b[39m \u001b[39mself\u001b[39m\u001b[39m.\u001b[39mhandles\u001b[39m.\u001b[39mhandle\n",
      "File \u001b[0;32m~/anaconda3/envs/link/lib/python3.9/site-packages/pandas/io/common.py:863\u001b[0m, in \u001b[0;36mget_handle\u001b[0;34m(path_or_buf, mode, encoding, compression, memory_map, is_text, errors, storage_options)\u001b[0m\n\u001b[1;32m    858\u001b[0m \u001b[39melif\u001b[39;00m \u001b[39misinstance\u001b[39m(handle, \u001b[39mstr\u001b[39m):\n\u001b[1;32m    859\u001b[0m     \u001b[39m# Check whether the filename is to be opened in binary mode.\u001b[39;00m\n\u001b[1;32m    860\u001b[0m     \u001b[39m# Binary mode does not support 'encoding' and 'newline'.\u001b[39;00m\n\u001b[1;32m    861\u001b[0m     \u001b[39mif\u001b[39;00m ioargs\u001b[39m.\u001b[39mencoding \u001b[39mand\u001b[39;00m \u001b[39m\"\u001b[39m\u001b[39mb\u001b[39m\u001b[39m\"\u001b[39m \u001b[39mnot\u001b[39;00m \u001b[39min\u001b[39;00m ioargs\u001b[39m.\u001b[39mmode:\n\u001b[1;32m    862\u001b[0m         \u001b[39m# Encoding\u001b[39;00m\n\u001b[0;32m--> 863\u001b[0m         handle \u001b[39m=\u001b[39m \u001b[39mopen\u001b[39;49m(\n\u001b[1;32m    864\u001b[0m             handle,\n\u001b[1;32m    865\u001b[0m             ioargs\u001b[39m.\u001b[39;49mmode,\n\u001b[1;32m    866\u001b[0m             encoding\u001b[39m=\u001b[39;49mioargs\u001b[39m.\u001b[39;49mencoding,\n\u001b[1;32m    867\u001b[0m             errors\u001b[39m=\u001b[39;49merrors,\n\u001b[1;32m    868\u001b[0m             newline\u001b[39m=\u001b[39;49m\u001b[39m\"\u001b[39;49m\u001b[39m\"\u001b[39;49m,\n\u001b[1;32m    869\u001b[0m         )\n\u001b[1;32m    870\u001b[0m     \u001b[39melse\u001b[39;00m:\n\u001b[1;32m    871\u001b[0m         \u001b[39m# Binary mode\u001b[39;00m\n\u001b[1;32m    872\u001b[0m         handle \u001b[39m=\u001b[39m \u001b[39mopen\u001b[39m(handle, ioargs\u001b[39m.\u001b[39mmode)\n",
      "\u001b[0;31mFileNotFoundError\u001b[0m: [Errno 2] No such file or directory: '../Resources/phenotype.hpoa'"
     ]
    }
   ],
   "source": [
    "# load the annotation file as a df\n",
    "df = pd.read_csv('../Resources/phenotype.hpoa', sep='\\t',comment='#')\n",
    "df.head()"
   ]
  },
  {
   "cell_type": "code",
   "execution_count": 3,
   "metadata": {},
   "outputs": [
    {
     "name": "stdout",
     "output_type": "stream",
     "text": [
      "Break down of annotations by sex\n",
      " sex\n",
      "male      439\n",
      "female    180\n",
      "Name: count, dtype: int64\n",
      "Female count 131\n",
      "{'HP:0000252', 'HP:0100759', 'HP:0010314', 'HP:0008391', 'HP:0002079', 'HP:0008214', 'HP:0008038', 'HP:0007328', 'HP:0000204', 'HP:0032565', 'HP:0100645', 'HP:0010695', 'HP:0033085', 'HP:0010982', 'HP:0002209', 'HP:0000144', 'HP:0002725', 'HP:0001761', 'HP:0008209', 'HP:0007418', 'HP:0000059', 'HP:0011003', 'HP:0003438', 'HP:0002688', 'HP:0002866', 'HP:0000054', 'HP:0002378', 'HP:0010464', 'HP:0001252', 'HP:0000139', 'HP:0000143', 'HP:0004325', 'HP:0000431', 'HP:0100779', 'HP:0001250', 'HP:0000061', 'HP:0000064', 'HP:0008724', 'HP:0002996', 'HP:0005268', 'HP:0001643', 'HP:0000134', 'HP:0001647', 'HP:0001220', 'HP:0000494', 'HP:0003762', 'HP:0003363', 'HP:0000175', 'HP:0000276', 'HP:0000858', 'HP:0100490', 'HP:0000786', 'HP:0000662', 'HP:0000131', 'HP:0000006', 'HP:0008905', 'HP:0001607', 'HP:0003083', 'HP:0025300', 'HP:0000815', 'HP:0001712', 'HP:0008665', 'HP:0000093', 'HP:0000365', 'HP:0002119', 'HP:0006886', 'HP:0000083', 'HP:0012211', 'HP:0001256', 'HP:0003621', 'HP:0200067', 'HP:0001363', 'HP:0008944', 'HP:0000826', 'HP:0025515', 'HP:0009072', 'HP:0032046', 'HP:0001153', 'HP:0001972', 'HP:0000151', 'HP:0000013', 'HP:0003187', 'HP:0001297', 'HP:0001328', 'HP:0003067', 'HP:0002650', 'HP:0000869', 'HP:0000148', 'HP:0009004', 'HP:0010313', 'HP:0012798', 'HP:0100602', 'HP:0008843', 'HP:0000463', 'HP:0008197', 'HP:0000132', 'HP:0001249', 'HP:0002326', 'HP:0008954', 'HP:0001634', 'HP:0001653', 'HP:0011891', 'HP:0000716', 'HP:0012343', 'HP:0003829', 'HP:0000336', 'HP:0012114', 'HP:0001166', 'HP:0004602', 'HP:0000316', 'HP:0000414', 'HP:0000219', 'HP:0001258', 'HP:0009702', 'HP:0008232', 'HP:0008723', 'HP:0000958', 'HP:0001369', 'HP:0005180', 'HP:0025318', 'HP:0000951', 'HP:0001257', 'HP:0000813', 'HP:0003493', 'HP:0006487', 'HP:0003596', 'HP:0003002', 'HP:0000060', 'HP:0001701', 'HP:0000136', 'HP:0002102'}\n",
      "\n",
      "Male count 213\n",
      "{'HP:0000252', 'HP:0100759', 'HP:0002720', 'HP:0001592', 'HP:0000023', 'HP:0000613', 'HP:0008391', 'HP:0000047', 'HP:0000519', 'HP:0001337', 'HP:0002079', 'HP:0007328', 'HP:0001631', 'HP:0002205', 'HP:0011463', 'HP:0000041', 'HP:0033195', 'HP:0032077', 'HP:0005280', 'HP:0007018', 'HP:0001761', 'HP:0001159', 'HP:0008872', 'HP:0000729', 'HP:0033725', 'HP:0030084', 'HP:0002688', 'HP:0003438', 'HP:0000238', 'HP:0000718', 'HP:0008689', 'HP:0031291', 'HP:0003819', 'HP:0001581', 'HP:0000054', 'HP:0010864', 'HP:0009381', 'HP:0200153', 'HP:0012745', 'HP:0000193', 'HP:0034049', 'HP:0002378', 'HP:0000126', 'HP:0000037', 'HP:0002223', 'HP:0001181', 'HP:0008392', 'HP:0002046', 'HP:0000964', 'HP:0001522', 'HP:0012869', 'HP:0008404', 'HP:0002015', 'HP:0033606', 'HP:0011051', 'HP:0001250', 'HP:0008185', 'HP:0000272', 'HP:0001659', 'HP:0002996', 'HP:0001539', 'HP:0008020', 'HP:0000104', 'HP:0001518', 'HP:0030237', 'HP:0001220', 'HP:0009804', 'HP:0000486', 'HP:0000494', 'HP:0003577', 'HP:0003811', 'HP:0012743', 'HP:0000009', 'HP:0000194', 'HP:0012208', 'HP:0000175', 'HP:0008733', 'HP:0000407', 'HP:0001342', 'HP:0000276', 'HP:0002251', 'HP:0000050', 'HP:0002540', 'HP:0006482', 'HP:0003376', 'HP:0000026', 'HP:0001263', 'HP:0000555', 'HP:0100490', 'HP:0002307', 'HP:0002788', 'HP:0000739', 'HP:0011373', 'HP:0000160', 'HP:0000822', 'HP:0002236', 'HP:0011947', 'HP:0000322', 'HP:0012864', 'HP:0001347', 'HP:0012125', 'HP:0000006', 'HP:0003251', 'HP:0002067', 'HP:0000453', 'HP:0000771', 'HP:0000802', 'HP:0003083', 'HP:0000122', 'HP:0033425', 'HP:0000962', 'HP:0001270', 'HP:0002191', 'HP:0032558', 'HP:0001712', 'HP:0011229', 'HP:0003316', 'HP:0001762', 'HP:0000248', 'HP:0000093', 'HP:0500262', 'HP:0000750', 'HP:0011496', 'HP:0011054', 'HP:0008619', 'HP:0001510', 'HP:0000365', 'HP:0006886', 'HP:0000083', 'HP:0002066', 'HP:0002308', 'HP:0000048', 'HP:0010667', 'HP:0003246', 'HP:0003621', 'HP:0000031', 'HP:0001363', 'HP:0000674', 'HP:0001596', 'HP:0000712', 'HP:0008944', 'HP:0002342', 'HP:0001344', 'HP:0011800', 'HP:0100796', 'HP:0000798', 'HP:0007763', 'HP:0012207', 'HP:0000717', 'HP:0000508', 'HP:0001141', 'HP:0001741', 'HP:0012741', 'HP:0008734', 'HP:0011462', 'HP:0002650', 'HP:0001321', 'HP:0009004', 'HP:0000049', 'HP:0000668', 'HP:0001423', 'HP:0012798', 'HP:0000027', 'HP:0000878', 'HP:0100257', 'HP:0011467', 'HP:0012231', 'HP:0011611', 'HP:0000034', 'HP:0001417', 'HP:0000505', 'HP:0001249', 'HP:0000452', 'HP:0100018', 'HP:0002326', 'HP:0000400', 'HP:0032560', 'HP:0008954', 'HP:0001634', 'HP:0003561', 'HP:0100565', 'HP:0005164', 'HP:0001653', 'HP:0040171', 'HP:0012343', 'HP:0000336', 'HP:0100600', 'HP:0001508', 'HP:0001166', 'HP:0004602', 'HP:0000789', 'HP:0001258', 'HP:0009702', 'HP:0000677', 'HP:0002322', 'HP:0002019', 'HP:0002020', 'HP:0000411', 'HP:0002719', 'HP:0000914', 'HP:0005180', 'HP:0012646', 'HP:0031590', 'HP:0001257', 'HP:0008936', 'HP:0001513', 'HP:0000028', 'HP:0001519', 'HP:0007663', 'HP:0006487', 'HP:0002410', 'HP:0001319', 'HP:0004840'}\n",
      "\n",
      "Intersex count 44\n",
      "{'HP:0000006', 'HP:0002650', 'HP:0000252', 'HP:0100759', 'HP:0009004', 'HP:0001250', 'HP:0012798', 'HP:0008391', 'HP:0002996', 'HP:0003083', 'HP:0002079', 'HP:0007328', 'HP:0001712', 'HP:0001249', 'HP:0002326', 'HP:0001220', 'HP:0008954', 'HP:0000093', 'HP:0001634', 'HP:0000494', 'HP:0001653', 'HP:0000365', 'HP:0012343', 'HP:0006886', 'HP:0001761', 'HP:0000175', 'HP:0000083', 'HP:0000336', 'HP:0001166', 'HP:0004602', 'HP:0002688', 'HP:0003438', 'HP:0000276', 'HP:0003621', 'HP:0001258', 'HP:0009702', 'HP:0000054', 'HP:0001363', 'HP:0008944', 'HP:0005180', 'HP:0100490', 'HP:0002378', 'HP:0001257', 'HP:0006487'}\n",
      "\n",
      "Just Female count 87\n",
      "['HP:0010314', 'HP:0008214', 'HP:0008038', 'HP:0000204', 'HP:0032565', 'HP:0100645', 'HP:0010695', 'HP:0033085', 'HP:0010982', 'HP:0002209', 'HP:0000144', 'HP:0002725', 'HP:0008209', 'HP:0007418', 'HP:0000059', 'HP:0011003', 'HP:0002866', 'HP:0010464', 'HP:0001252', 'HP:0000139', 'HP:0000143', 'HP:0004325', 'HP:0000431', 'HP:0100779', 'HP:0000061', 'HP:0000064', 'HP:0008724', 'HP:0005268', 'HP:0001643', 'HP:0000134', 'HP:0001647', 'HP:0003762', 'HP:0003363', 'HP:0000858', 'HP:0000786', 'HP:0000662', 'HP:0000131', 'HP:0008905', 'HP:0001607', 'HP:0025300', 'HP:0000815', 'HP:0008665', 'HP:0002119', 'HP:0012211', 'HP:0001256', 'HP:0200067', 'HP:0000826', 'HP:0025515', 'HP:0009072', 'HP:0032046', 'HP:0001153', 'HP:0001972', 'HP:0000151', 'HP:0000013', 'HP:0003187', 'HP:0001297', 'HP:0001328', 'HP:0003067', 'HP:0000869', 'HP:0000148', 'HP:0010313', 'HP:0100602', 'HP:0008843', 'HP:0000463', 'HP:0008197', 'HP:0000132', 'HP:0011891', 'HP:0000716', 'HP:0003829', 'HP:0012114', 'HP:0000316', 'HP:0000414', 'HP:0000219', 'HP:0008232', 'HP:0008723', 'HP:0000958', 'HP:0001369', 'HP:0025318', 'HP:0000951', 'HP:0000813', 'HP:0003493', 'HP:0003596', 'HP:0003002', 'HP:0000060', 'HP:0001701', 'HP:0000136', 'HP:0002102']\n",
      "\n",
      "Just Male count 169\n",
      "['HP:0002720', 'HP:0001592', 'HP:0000023', 'HP:0000613', 'HP:0000047', 'HP:0000519', 'HP:0001337', 'HP:0001631', 'HP:0002205', 'HP:0011463', 'HP:0000041', 'HP:0033195', 'HP:0032077', 'HP:0005280', 'HP:0007018', 'HP:0001159', 'HP:0008872', 'HP:0000729', 'HP:0033725', 'HP:0030084', 'HP:0000238', 'HP:0000718', 'HP:0008689', 'HP:0031291', 'HP:0003819', 'HP:0001581', 'HP:0010864', 'HP:0009381', 'HP:0200153', 'HP:0012745', 'HP:0000193', 'HP:0034049', 'HP:0000126', 'HP:0000037', 'HP:0002223', 'HP:0001181', 'HP:0008392', 'HP:0002046', 'HP:0000964', 'HP:0001522', 'HP:0012869', 'HP:0008404', 'HP:0002015', 'HP:0033606', 'HP:0011051', 'HP:0008185', 'HP:0000272', 'HP:0001659', 'HP:0001539', 'HP:0008020', 'HP:0000104', 'HP:0001518', 'HP:0030237', 'HP:0009804', 'HP:0000486', 'HP:0003577', 'HP:0003811', 'HP:0012743', 'HP:0000009', 'HP:0000194', 'HP:0012208', 'HP:0008733', 'HP:0000407', 'HP:0001342', 'HP:0002251', 'HP:0000050', 'HP:0002540', 'HP:0006482', 'HP:0003376', 'HP:0000026', 'HP:0001263', 'HP:0000555', 'HP:0002307', 'HP:0002788', 'HP:0000739', 'HP:0011373', 'HP:0000160', 'HP:0000822', 'HP:0002236', 'HP:0011947', 'HP:0000322', 'HP:0012864', 'HP:0001347', 'HP:0012125', 'HP:0003251', 'HP:0002067', 'HP:0000453', 'HP:0000771', 'HP:0000802', 'HP:0000122', 'HP:0033425', 'HP:0000962', 'HP:0001270', 'HP:0002191', 'HP:0032558', 'HP:0011229', 'HP:0003316', 'HP:0001762', 'HP:0000248', 'HP:0500262', 'HP:0000750', 'HP:0011496', 'HP:0011054', 'HP:0008619', 'HP:0001510', 'HP:0002066', 'HP:0002308', 'HP:0000048', 'HP:0010667', 'HP:0003246', 'HP:0000031', 'HP:0000674', 'HP:0001596', 'HP:0000712', 'HP:0002342', 'HP:0001344', 'HP:0011800', 'HP:0100796', 'HP:0000798', 'HP:0007763', 'HP:0012207', 'HP:0000717', 'HP:0000508', 'HP:0001141', 'HP:0001741', 'HP:0012741', 'HP:0008734', 'HP:0011462', 'HP:0001321', 'HP:0000049', 'HP:0000668', 'HP:0001423', 'HP:0000027', 'HP:0000878', 'HP:0100257', 'HP:0011467', 'HP:0012231', 'HP:0011611', 'HP:0000034', 'HP:0001417', 'HP:0000505', 'HP:0000452', 'HP:0100018', 'HP:0000400', 'HP:0032560', 'HP:0003561', 'HP:0100565', 'HP:0005164', 'HP:0040171', 'HP:0100600', 'HP:0001508', 'HP:0000789', 'HP:0000677', 'HP:0002322', 'HP:0002019', 'HP:0002020', 'HP:0000411', 'HP:0002719', 'HP:0000914', 'HP:0012646', 'HP:0031590', 'HP:0008936', 'HP:0001513', 'HP:0000028', 'HP:0001519', 'HP:0007663', 'HP:0002410', 'HP:0001319', 'HP:0004840']\n",
      "\n"
     ]
    },
    {
     "name": "stderr",
     "output_type": "stream",
     "text": [
      "/var/folders/ty/694s8g7n1cz_l5s3prx55jzr0000gn/T/ipykernel_44379/2152985999.py:5: SettingWithCopyWarning: \n",
      "A value is trying to be set on a copy of a slice from a DataFrame.\n",
      "Try using .loc[row_indexer,col_indexer] = value instead\n",
      "\n",
      "See the caveats in the documentation: https://pandas.pydata.org/pandas-docs/stable/user_guide/indexing.html#returning-a-view-versus-a-copy\n",
      "  sex_df['sex'] = [ x.lower() for x in sex_df['sex']]\n"
     ]
    }
   ],
   "source": [
    "# get a sub set of df where sex is not null\n",
    "sex_df = df[df['sex'].isna()==False]\n",
    "sex_df.head()\n",
    "# convert sex column to lower case\n",
    "sex_df['sex'] = [ x.lower() for x in sex_df['sex']]\n",
    "sex_df.head()\n",
    "\n",
    "print('Break down of annotations by sex\\n',sex_df['sex'].value_counts())\n",
    "\n",
    "# get number of unique HPO terms with male or female annotations\n",
    "female_hpos = set([x for x in sex_df[sex_df['sex'] == 'female']['hpo_id'] ])\n",
    "male_hpos = set([x for  x in sex_df[sex_df['sex'] == 'male']['hpo_id'] ])\n",
    "\n",
    "print('Female count',len(female_hpos))\n",
    "print(female_hpos)\n",
    "print()\n",
    "print('Male count',len(male_hpos))\n",
    "print(male_hpos)\n",
    "print()\n",
    "intersex = female_hpos.intersection(male_hpos)\n",
    "print('Intersex count',len(intersex))\n",
    "print(intersex)\n",
    "print()\n",
    "# get HPO terms that are just female and just male\n",
    "female_hpos = [ x for x in female_hpos if x not in intersex]\n",
    "male_hpos = [ x for x in male_hpos if x not in intersex]\n",
    "\n",
    "print('Just Female count',len(female_hpos))\n",
    "print(female_hpos)\n",
    "print()\n",
    "print('Just Male count',len(male_hpos))\n",
    "print(male_hpos)\n",
    "print()\n",
    "\n"
   ]
  },
  {
   "cell_type": "code",
   "execution_count": 4,
   "metadata": {},
   "outputs": [],
   "source": [
    "# write just female and just male HPO terms to files\n",
    "with open('../Resources/just_female_hpos.txt','w') as outfile:\n",
    "    for x in female_hpos:\n",
    "        outfile.write(x+'\\n')\n",
    "\n",
    "with open('../Resources/just_male_hpos.txt','w') as outfile:\n",
    "    for x in male_hpos:\n",
    "        outfile.write(x+'\\n')\n"
   ]
  },
  {
   "cell_type": "code",
   "execution_count": 5,
   "metadata": {},
   "outputs": [
    {
     "name": "stdout",
     "output_type": "stream",
     "text": [
      "Seizure\n"
     ]
    }
   ],
   "source": [
    "# load the latest version of HPO so I can have access to the names of the HPO terms\n",
    "url = 'https://raw.githubusercontent.com/obophenotype/human-phenotype-ontology/master/hp.obo'\n",
    "graph = obonet.read_obo(url)\n",
    "print(graph.nodes(data=True)['HP:0001250']['name'])"
   ]
  },
  {
   "cell_type": "code",
   "execution_count": 9,
   "metadata": {},
   "outputs": [
    {
     "name": "stdout",
     "output_type": "stream",
     "text": [
      "HP:0010314 Premature thelarche\n",
      "HP:0008214 Decreased serum estradiol\n",
      "HP:0008038 Aplastic/hypoplastic lacrimal glands\n",
      "HP:0000204 Cleft upper lip\n",
      "HP:0032565 Vaginal mucosal ulceration\n",
      "HP:0100645 Cystocele\n",
      "HP:0010695 Sutural cataract\n",
      "HP:0033085 Reduced antral follicle count\n",
      "HP:0010982 Polygenic inheritance\n",
      "HP:0002209 Sparse scalp hair\n",
      "HP:0000144 Decreased fertility\n",
      "HP:0002725 Systemic lupus erythematosus\n",
      "HP:0008209 Premature ovarian insufficiency\n",
      "HP:0007418 Alopecia totalis\n",
      "HP:0000059 Hypoplastic labia majora\n",
      "HP:0011003 High myopia\n",
      "HP:0002866 Hypoplastic iliac wing\n",
      "HP:0010464 Streak ovary\n",
      "HP:0001252 Hypotonia\n",
      "HP:0000139 Uterine prolapse\n",
      "HP:0000143 Rectovaginal fistula\n",
      "HP:0004325 Decreased body weight\n",
      "HP:0000431 Wide nasal bridge\n",
      "HP:0100779 Urogenital sinus anomaly\n",
      "HP:0000061 Ambiguous genitalia, female\n",
      "HP:0000064 Hypoplastic labia minora\n",
      "HP:0008724 Hypoplasia of the ovary\n",
      "HP:0005268 Miscarriage\n",
      "HP:0001643 Patent ductus arteriosus\n",
      "HP:0000134 Female hypogonadism\n",
      "HP:0001647 Bicuspid aortic valve\n",
      "HP:0003762 Uterus didelphys\n",
      "HP:0003363 Abdominal situs inversus\n",
      "HP:0000858 Irregular menstruation\n",
      "HP:0000786 Primary amenorrhea\n",
      "HP:0000662 Nyctalopia\n",
      "HP:0000131 Uterine leiomyoma\n",
      "HP:0008905 Rhizomelia\n",
      "HP:0001607 Subglottic stenosis\n",
      "HP:0025300 Malar rash\n",
      "HP:0000815 Hypergonadotropic hypogonadism\n",
      "HP:0008665 Clitoral hypertrophy\n",
      "HP:0002119 Ventriculomegaly\n",
      "HP:0012211 Abnormal renal physiology\n",
      "HP:0001256 Intellectual disability, mild\n",
      "HP:0200067 Recurrent spontaneous abortion\n",
      "HP:0000826 Precocious puberty\n",
      "HP:0025515 Delayed thelarche\n",
      "HP:0009072 Decreased Achilles reflex\n",
      "HP:0032046 Focal cortical dysplasia\n",
      "HP:0001153 Septate vagina\n",
      "HP:0001972 Macrocytic anemia\n",
      "HP:0000151 Aplasia of the uterus\n",
      "HP:0000013 Hypoplasia of the uterus\n",
      "HP:0003187 Breast hypoplasia\n",
      "HP:0001297 Stroke\n",
      "HP:0001328 Specific learning disability\n",
      "HP:0003067 Madelung deformity\n",
      "HP:0000869 Secondary amenorrhea\n",
      "HP:0000148 Vaginal atresia\n",
      "HP:0010313 Breast hypertrophy\n",
      "HP:0100602 Preeclampsia\n",
      "HP:0008843 Hip osteoarthritis\n",
      "HP:0000463 Anteverted nares\n",
      "HP:0008197 Absence of pubertal development\n",
      "HP:0000132 Menorrhagia\n",
      "HP:0011891 Post-partum hemorrhage\n",
      "HP:0000716 Depression\n",
      "HP:0003829 Typified by incomplete penetrance\n",
      "HP:0012114 Endometrial carcinoma\n",
      "HP:0000316 Hypertelorism\n",
      "HP:0000414 Bulbous nose\n",
      "HP:0000219 Thin upper lip vermilion\n",
      "HP:0008232 Elevated circulating follicle stimulating hormone level\n",
      "HP:0008723 Gonadal dysgenesis with female appearance, male\n",
      "HP:0000958 Dry skin\n",
      "HP:0001369 Arthritis\n",
      "HP:0025318 Ovarian carcinoma\n",
      "HP:0000951 Abnormality of the skin\n",
      "HP:0000813 Bicornuate uterus\n",
      "HP:0003493 Antinuclear antibody positivity\n",
      "HP:0003596 Middle age onset\n",
      "HP:0003002 Breast carcinoma\n",
      "HP:0000060 Clitoral hypoplasia\n",
      "HP:0001701 Pericarditis\n",
      "HP:0000136 Bifid uterus\n",
      "HP:0002102 Pleuritis\n"
     ]
    }
   ],
   "source": [
    "for n in female_hpos:\n",
    "    print(n,graph.nodes(data=True)[n]['name'])"
   ]
  }
 ],
 "metadata": {
  "kernelspec": {
   "display_name": "link",
   "language": "python",
   "name": "python3"
  },
  "language_info": {
   "codemirror_mode": {
    "name": "ipython",
    "version": 3
   },
   "file_extension": ".py",
   "mimetype": "text/x-python",
   "name": "python",
   "nbconvert_exporter": "python",
   "pygments_lexer": "ipython3",
   "version": "3.9.16"
  },
  "orig_nbformat": 4
 },
 "nbformat": 4,
 "nbformat_minor": 2
}
