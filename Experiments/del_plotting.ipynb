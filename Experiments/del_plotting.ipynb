{
 "cells": [
  {
   "cell_type": "code",
   "execution_count": 14,
   "metadata": {},
   "outputs": [],
   "source": [
    "import matplotlib.pyplot as plt\n",
    "import networkx as nx\n",
    "import numpy as np\n",
    "import pandas as pd\n",
    "import seaborn as sns\n",
    "import torch\n",
    "from pykeen.datasets.hetionet import Hetionet\n",
    "from scipy import stats\n",
    "import sys\n",
    "import os\n",
    "from pykeen.datasets.base import PathDataset\n",
    "from pykeen.predict import predict_target\n",
    "from scipy.stats import kstest\n",
    "import pickle\n",
    "from scipy.stats import pearsonr\n",
    "\n",
    "sys.path.append(os.path.abspath('../src/'))\n",
    "\n",
    "from utils import get_predictions_tail"
   ]
  },
  {
   "cell_type": "code",
   "execution_count": 3,
   "metadata": {},
   "outputs": [],
   "source": [
    "# Load the STRING_HPO network edges\n",
    "df: pd.DataFrame = pd.read_csv(\n",
    "    \"../ELs_for_Rotate/String_HPO_2019.all_hpo/train.txt\", sep=\"\\t\"\n",
    ")\n",
    "df.columns = [\"source\", \"relation\", \"target\"]\n",
    "\n",
    "# Load these edges into a NX graph and compute the degree for each entity\n",
    "G: nx.MultiGraph = nx.from_pandas_edgelist(\n",
    "    df, \"source\", \"target\", create_using=nx.MultiGraph()\n",
    ")\n",
    "degs: dict = dict(G.degree())"
   ]
  },
  {
   "cell_type": "code",
   "execution_count": 4,
   "metadata": {},
   "outputs": [
    {
     "name": "stdout",
     "output_type": "stream",
     "text": [
      "females    gene  tissue_count\n",
      "27  NaN           739\n",
      "females (2433, 2)\n",
      "males   gene  tissue_count\n",
      "3  NaN          1090\n",
      "males (2364, 2)\n"
     ]
    }
   ],
   "source": [
    "# Load the data\n",
    "xls = pd.ExcelFile('../Resources/aba3066-table-s2.xlsx')\n",
    "\n",
    "gene_tissue_counts_female = {}\n",
    "gene_tissue_counts_male = {}\n",
    "t2g2s = {'tissue':[],'gene':[],'sex':[]}\n",
    "tissue_2_gene_by_sex = {}\n",
    "for sheet_name in xls.sheet_names[2:]:\n",
    "    xdf = xls.parse(sheet_name)\n",
    "    for i,row in xdf.iterrows():\n",
    "        g = row['HUGO_gene_id']\n",
    "        is_female = row['MASH beta'] > 0\n",
    "        if is_female:\n",
    "            if g not in gene_tissue_counts_female:\n",
    "                gene_tissue_counts_female[g] = 0\n",
    "            gene_tissue_counts_female[g] += 1\n",
    "            t2g2s['tissue'].append(sheet_name)\n",
    "            t2g2s['gene'].append(g)\n",
    "            t2g2s['sex'].append('female')\n",
    "        else:\n",
    "            if g not in gene_tissue_counts_male:\n",
    "                gene_tissue_counts_male[g] = 0\n",
    "            gene_tissue_counts_male[g] += 1\n",
    "            t2g2s['tissue'].append(sheet_name)\n",
    "            t2g2s['gene'].append(g)\n",
    "            t2g2s['sex'].append('male')\n",
    "\n",
    "# build a DF for these that are differentially expressed and with greater expression in females\n",
    "genes_female = gene_tissue_counts_female.keys()\n",
    "data_female = {'gene':genes_female,'tissue_count':[gene_tissue_counts_female[g] for g in genes_female]}\n",
    "df_female = pd.DataFrame(data_female)\n",
    "df_female['tissue_count'].max()\n",
    "print('females',df_female[df_female['tissue_count'] == df_female['tissue_count'].max()])\n",
    "df_female = df_female[df_female['tissue_count'] < 45]\n",
    "print('females',df_female.shape)\n",
    "\n",
    "# build a DF for these that are differentially expressed and with greater expression in males\n",
    "genes_male = gene_tissue_counts_male.keys()\n",
    "data_male = {'gene':genes_male,'tissue_count':[gene_tissue_counts_male[g] for g in genes_male]}\n",
    "df_male = pd.DataFrame(data_male)\n",
    "df_male['tissue_count'].max()\n",
    "print('males',df_male[df_male['tissue_count'] == df_male['tissue_count'].max()])\n",
    "df_male = df_male[df_male['tissue_count'] < 45]\n",
    "print('males',df_male.shape)\n",
    "\n",
    "# add prefix 'STRING:' to all genes\n",
    "df_female['gene'] = [ 'STRING:'+x for x in df_female['gene']]\n",
    "df_male['gene'] = [ 'STRING:'+x for x in df_male['gene']]\n",
    "\n",
    "genes_female = list(df_female['gene'])\n",
    "genes_male = list(df_male['gene'])\n"
   ]
  },
  {
   "cell_type": "code",
   "execution_count": 5,
   "metadata": {},
   "outputs": [
    {
     "name": "stdout",
     "output_type": "stream",
     "text": [
      "               gene  tissue_count\n",
      "0       STRING:XIST            44\n",
      "1      STRING:KDM6A            44\n",
      "2      STRING:KDM5C            44\n",
      "3     STRING:EIF1AX            44\n",
      "4      STRING:RPS4X            44\n",
      "...             ...           ...\n",
      "2429   STRING:WDR89             1\n",
      "2430  STRING:SECTM1             1\n",
      "2431   STRING:ZNF91             1\n",
      "2432  STRING:TMEM71             1\n",
      "2433   STRING:PRDM5             1\n",
      "\n",
      "[2433 rows x 2 columns]\n",
      "                  gene  tissue_count\n",
      "0        STRING:GREB1L            15\n",
      "1         STRING:ZBED1            42\n",
      "2          STRING:CD99            44\n",
      "4          STRING:SGCZ             4\n",
      "5     STRING:LINC00844            10\n",
      "...                ...           ...\n",
      "2360       STRING:ISCU             1\n",
      "2361    STRING:CAPRIN1             1\n",
      "2362        STRING:MAF             1\n",
      "2363       STRING:GPS1             1\n",
      "2364     STRING:PDGFRB             1\n",
      "\n",
      "[2364 rows x 2 columns]\n"
     ]
    }
   ],
   "source": [
    "print(df_female)\n",
    "print(df_male)"
   ]
  },
  {
   "cell_type": "code",
   "execution_count": 17,
   "metadata": {},
   "outputs": [
    {
     "data": {
      "image/png": "[encoded data removed]",
      "text/plain": [
       "<Figure size 1000x500 with 2 Axes>"
      ]
     },
     "metadata": {},
     "output_type": "display_data"
    },
    {
     "name": "stdout",
     "output_type": "stream",
     "text": [
      "Female Pearson's R= PearsonRResult(statistic=0.016189431381413794, pvalue=0.42475854283030806)\n",
      "Male Pearson's R= PearsonRResult(statistic=-0.08771738082546912, pvalue=1.9469982046331922e-05)\n"
     ]
    }
   ],
   "source": [
    "# plot degree vs # tissues differentially expressed in seporated by sex\n",
    "\n",
    "df_female['degree'] = [ degs[x] if x in degs else -1 for x in df_female['gene']]\n",
    "df_male['degree'] = [ degs[x] if x in degs else -1 for x in df_male['gene']]\n",
    "\n",
    "fig,ax = plt.subplots(1,2,figsize=(10,5), sharey=True, sharex=True)\n",
    "\n",
    "ax[0].scatter(df_female['degree'],df_female['tissue_count'],label='female',color='red',s=1, alpha=0.5)\n",
    "ax[0].set_title('Female')\n",
    "\n",
    "ax[1].scatter(df_male['degree'],df_male['tissue_count'],label='male',color='blue',s=1, alpha=0.5)\n",
    "ax[1].set_title('Male')\n",
    "\n",
    "ax[0].set_xlabel('Degree')\n",
    "ax[0].set_ylabel('# Tissues Differentially Expressed')\n",
    "ax[1].set_xlabel('Degree')\n",
    "ax[1].set_ylabel('# Tissues Differentially Expressed')\n",
    "\n",
    "# remove top and right borders\n",
    "for a in ax:\n",
    "    a.spines['top'].set_visible(False)\n",
    "    a.spines['right'].set_visible(False)\n",
    "\n",
    "plt.tight_layout()\n",
    "plt.savefig('../Figures/diff_expr_degree_vs_tissues.png',dpi=300)\n",
    "plt.show()\n",
    "\n",
    "# pearson correlation between degree and # tissues differentially expressed\n",
    "print('Female Pearson\\'s R=',pearsonr(df_female['degree'],df_female['tissue_count']))\n",
    "print('Male Pearson\\'s R=',pearsonr(df_male['degree'],df_male['tissue_count']))\n"
   ]
  },
  {
   "cell_type": "markdown",
   "metadata": {},
   "source": [
    "## Olfactory & Other gene groupings"
   ]
  },
  {
   "cell_type": "code",
   "execution_count": null,
   "metadata": {},
   "outputs": [],
   "source": [
    "# load the TSV\n",
    "\n",
    "gene_group_df = pd.read_csv('../supplementary_dataset_13_gene_lists.tsv',sep='\\t')\n",
    "\n",
    "for group in gene_group_df['gene_list'].unique:\n",
    "    print(group)\n",
    "    group_genes = [ 'STRING:' + gene for x in gene_group_df[gene_group_df['gene_list'] == group]['gene']]\n",
    "    print('Number genes in group:',len(group_genes))\n",
    "    \n",
    "    # VS female\n",
    "    annotated_p = two_group_g2p_ranking_test(prefix=group,\n",
    "                            hpos_a=group_genes,\n",
    "                            hpos_b=genes_female,\n",
    "                            label_a=group,\n",
    "                            label_b='female',\n",
    "                            data=data,\n",
    "                            model=model,\n",
    "                            degs=degs,\n",
    "                            train_triples=train_triples,\n",
    "                            test_triples=test_triples,\n",
    "                            valid_triples=valid_triples,\n",
    "                            all_genes=genes,\n",
    "                            relation='STRING2STRING')\n",
    "\n",
    "    # VS male\n",
    "    annotated_p = two_group_g2p_ranking_test(prefix=group,\n",
    "                            hpos_a=group_genes,\n",
    "                            hpos_b=genes_male,\n",
    "                            label_a=group,\n",
    "                            label_b='male',\n",
    "                            data=data,\n",
    "                            model=model,\n",
    "                            degs=degs,\n",
    "                            train_triples=train_triples,\n",
    "                            test_triples=test_triples,\n",
    "                            valid_triples=valid_triples,\n",
    "                            all_genes=genes,\n",
    "                            relation='STRING2STRING')"
   ]
  }
 ],
 "metadata": {
  "kernelspec": {
   "display_name": "link",
   "language": "python",
   "name": "python3"
  },
  "language_info": {
   "codemirror_mode": {
    "name": "ipython",
    "version": 3
   },
   "file_extension": ".py",
   "mimetype": "text/x-python",
   "name": "python",
   "nbconvert_exporter": "python",
   "pygments_lexer": "ipython3",
   "version": "3.11.3"
  },
  "orig_nbformat": 4
 },
 "nbformat": 4,
 "nbformat_minor": 2
}
